{
 "cells": [
  {
   "cell_type": "code",
   "execution_count": 3,
   "metadata": {},
   "outputs": [],
   "source": [
    "import random as rd   "
   ]
  },
  {
   "cell_type": "code",
   "execution_count": 33,
   "metadata": {},
   "outputs": [],
   "source": [
    "def monty_hall(pick,switch,rounds):\n",
    "    win_count = 0\n",
    "    lose_count = 0\n",
    "    for i in range(rounds):\n",
    "        l = [1,2,3]\n",
    "        nl = []\n",
    "        rd.shuffle(l)\n",
    "        \n",
    "\n",
    "        win = rd.randrange(1,4)\n",
    "        nl.append(win)\n",
    "\n",
    "        choice1 = int(pick)\n",
    "        nl.append(choice1)\n",
    "\n",
    "        a = set(l)-set(nl)\n",
    "\n",
    "        l.remove(list(a)[0])\n",
    "\n",
    "        switch = switch.lower()\n",
    "\n",
    "        if switch == 'yes':\n",
    "            if l.index(choice1) == 0:\n",
    "                choice1 = l[1]\n",
    "            else:\n",
    "                choice1 = l[0]\n",
    "        else:\n",
    "            pass\n",
    "\n",
    "        if choice1 == win:\n",
    "            win_count += 1\n",
    "            \n",
    "        else:\n",
    "            lose_count +=1\n",
    "            \n",
    "        \n",
    "    print(f'win_count: {win_count}, lose_count: {lose_count}, win_rate: {win_count/(win_count+lose_count)}')\n"
   ]
  },
  {
   "cell_type": "code",
   "execution_count": 40,
   "metadata": {},
   "outputs": [
    {
     "name": "stdout",
     "output_type": "stream",
     "text": [
      "win_count: 333683, lose_count: 666317, win_rate: 0.333683\n"
     ]
    }
   ],
   "source": [
    "monty_hall(1,'no',1000000)"
   ]
  },
  {
   "cell_type": "code",
   "execution_count": 41,
   "metadata": {},
   "outputs": [
    {
     "name": "stdout",
     "output_type": "stream",
     "text": [
      "win_count: 666141, lose_count: 333859, win_rate: 0.666141\n"
     ]
    }
   ],
   "source": [
    "monty_hall(1,'yes',1000000)"
   ]
  },
  {
   "cell_type": "code",
   "execution_count": null,
   "metadata": {},
   "outputs": [],
   "source": []
  }
 ],
 "metadata": {
  "kernelspec": {
   "display_name": "Python 3",
   "language": "python",
   "name": "python3"
  }
 },
 "nbformat": 4,
 "nbformat_minor": 2
}
